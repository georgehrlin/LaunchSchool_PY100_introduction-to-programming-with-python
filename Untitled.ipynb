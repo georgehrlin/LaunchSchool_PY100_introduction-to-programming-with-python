{
 "cells": [
  {
   "cell_type": "code",
   "execution_count": 1,
   "id": "929b2fd4-c253-4b53-ba81-365ccf850e4e",
   "metadata": {},
   "outputs": [
    {
     "name": "stdout",
     "output_type": "stream",
     "text": [
      "15\n",
      "1.7976931348623157e+308\n",
      "2.2250738585072014e-308\n"
     ]
    }
   ],
   "source": [
    "import sys\n",
    "\n",
    "print(sys.float_info.dig)\n",
    "print(sys.float_info.max)\n",
    "print(sys.float_info.min)"
   ]
  },
  {
   "cell_type": "code",
   "execution_count": 2,
   "id": "642a7097-ab70-4098-bca4-e93033285a4b",
   "metadata": {},
   "outputs": [
    {
     "name": "stdout",
     "output_type": "stream",
     "text": [
      "3.14e+20\n",
      "3.14e-20\n"
     ]
    }
   ],
   "source": [
    "print(3.14 * (10**20))\n",
    "print(3.14 * (10**-20))"
   ]
  },
  {
   "cell_type": "code",
   "execution_count": null,
   "id": "c27697fb-3ebb-46ad-86fa-c02fe62c6dd6",
   "metadata": {},
   "outputs": [],
   "source": []
  }
 ],
 "metadata": {
  "kernelspec": {
   "display_name": "Python 3 (ipykernel)",
   "language": "python",
   "name": "python3"
  },
  "language_info": {
   "codemirror_mode": {
    "name": "ipython",
    "version": 3
   },
   "file_extension": ".py",
   "mimetype": "text/x-python",
   "name": "python",
   "nbconvert_exporter": "python",
   "pygments_lexer": "ipython3",
   "version": "3.12.7"
  }
 },
 "nbformat": 4,
 "nbformat_minor": 5
}
